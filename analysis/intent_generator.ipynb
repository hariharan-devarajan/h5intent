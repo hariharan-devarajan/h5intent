{
 "cells": [
  {
   "cell_type": "code",
   "execution_count": 1,
   "id": "b5829fa8-97b5-43b4-ad21-00f6ee14bce6",
   "metadata": {},
   "outputs": [],
   "source": [
    "from intent_generator import *"
   ]
  },
  {
   "cell_type": "code",
   "execution_count": 2,
   "id": "314efae6-bf72-4055-8885-19565dd8eae7",
   "metadata": {},
   "outputs": [],
   "source": [
    "base_path=\"/usr/workspace/iopp/software/h5intent/h5bench\"\n",
    "darshan_logs=\"darshan-logs/sync_1_4_libdarshan\"\n",
    "property_json=\"property-json/sync_1_4_libdarshan\""
   ]
  },
  {
   "cell_type": "code",
   "execution_count": 3,
   "id": "1453c04a",
   "metadata": {},
   "outputs": [
    {
     "name": "stdout",
     "output_type": "stream",
     "text": [
      "Generating config for workflow sync-openpmd\n",
      "dict_keys(['POSIX', 'MPI-IO', 'H5F', 'H5D', 'STDIO', 'HEATMAP'])\n",
      "dict_keys(['POSIX', 'MPI-IO', 'H5F', 'H5D', 'STDIO', 'HEATMAP'])\n",
      "Generating config for workflow sync-exerciser\n",
      "dict_keys(['STDIO', 'HEATMAP'])\n",
      "No HDF5 Module found for sync-exerciser\n",
      "Generating config for workflow sync-amrex\n",
      "dict_keys(['POSIX', 'STDIO', 'HEATMAP'])\n",
      "No HDF5 Module found for sync-amrex\n",
      "Generating config for workflow sync-append\n",
      "dict_keys(['POSIX', 'MPI-IO', 'H5F', 'H5D', 'STDIO', 'HEATMAP'])\n",
      "dict_keys(['POSIX', 'MPI-IO', 'H5F', 'H5D', 'STDIO', 'HEATMAP'])\n"
     ]
    },
    {
     "name": "stderr",
     "output_type": "stream",
     "text": [
      "/usr/WS2/iopp/software/h5intent/analysis/intent_generator.py:315: RuntimeWarning: divide by zero encountered in double_scalars\n",
      "  per_re_read = h5d_df_c['H5D_DATASPACE_NPOINTS'][ind] * 1.0 /  num_elements_written\n",
      "/usr/WS2/iopp/software/h5intent/analysis/intent_generator.py:316: RuntimeWarning: divide by zero encountered in double_scalars\n",
      "  per_re_write = h5d_df_c['H5D_DATASPACE_NPOINTS'][ind] * 1.0 /  num_elements_read\n",
      "/usr/WS2/iopp/software/h5intent/analysis/intent_generator.py:315: RuntimeWarning: divide by zero encountered in double_scalars\n",
      "  per_re_read = h5d_df_c['H5D_DATASPACE_NPOINTS'][ind] * 1.0 /  num_elements_written\n",
      "/usr/WS2/iopp/software/h5intent/analysis/intent_generator.py:316: RuntimeWarning: divide by zero encountered in double_scalars\n",
      "  per_re_write = h5d_df_c['H5D_DATASPACE_NPOINTS'][ind] * 1.0 /  num_elements_read\n"
     ]
    },
    {
     "name": "stdout",
     "output_type": "stream",
     "text": [
      "Generating config for workflow sync-metadata\n",
      "Generating config for workflow sync-overwrite\n",
      "Generating config for workflow sync-e3sm\n",
      "dict_keys(['POSIX', 'MPI-IO', 'H5F', 'H5D', 'PNETCDF', 'STDIO', 'HEATMAP'])\n",
      "Generating config for workflow sync-write-1d-contig-contig-read-strided\n",
      "dict_keys(['POSIX', 'MPI-IO', 'H5F', 'H5D', 'STDIO', 'HEATMAP'])\n",
      "dict_keys(['POSIX', 'MPI-IO', 'H5F', 'H5D', 'STDIO', 'HEATMAP'])\n",
      "Generating config for workflow sync-write-1d-contig-contig\n",
      "dict_keys(['POSIX', 'MPI-IO', 'H5F', 'H5D', 'STDIO', 'HEATMAP'])\n"
     ]
    },
    {
     "name": "stderr",
     "output_type": "stream",
     "text": [
      "/usr/WS2/iopp/software/h5intent/analysis/intent_generator.py:315: RuntimeWarning: divide by zero encountered in double_scalars\n",
      "  per_re_read = h5d_df_c['H5D_DATASPACE_NPOINTS'][ind] * 1.0 /  num_elements_written\n",
      "/usr/WS2/iopp/software/h5intent/analysis/intent_generator.py:316: RuntimeWarning: divide by zero encountered in double_scalars\n",
      "  per_re_write = h5d_df_c['H5D_DATASPACE_NPOINTS'][ind] * 1.0 /  num_elements_read\n"
     ]
    },
    {
     "name": "stdout",
     "output_type": "stream",
     "text": [
      "Generating config for workflow sync-write-1d-contig-contig-read-partial\n",
      "dict_keys(['POSIX', 'MPI-IO', 'H5F', 'H5D', 'STDIO', 'HEATMAP'])\n",
      "dict_keys(['POSIX', 'MPI-IO', 'H5F', 'H5D', 'STDIO', 'HEATMAP'])\n",
      "Generating config for workflow sync-write-1d-contig-interleaved\n",
      "dict_keys(['POSIX', 'MPI-IO', 'H5F', 'H5D', 'STDIO', 'HEATMAP'])\n",
      "Generating config for workflow sync-write-1d-contig-strided\n",
      "dict_keys(['POSIX', 'MPI-IO', 'H5F', 'H5D', 'STDIO', 'HEATMAP'])\n"
     ]
    },
    {
     "name": "stderr",
     "output_type": "stream",
     "text": [
      "/usr/WS2/iopp/software/h5intent/analysis/intent_generator.py:316: RuntimeWarning: divide by zero encountered in double_scalars\n",
      "  per_re_write = h5d_df_c['H5D_DATASPACE_NPOINTS'][ind] * 1.0 /  num_elements_read\n",
      "/usr/WS2/iopp/software/h5intent/analysis/intent_generator.py:316: RuntimeWarning: divide by zero encountered in double_scalars\n",
      "  per_re_write = h5d_df_c['H5D_DATASPACE_NPOINTS'][ind] * 1.0 /  num_elements_read\n"
     ]
    },
    {
     "name": "stdout",
     "output_type": "stream",
     "text": [
      "Generating config for workflow sync-write-2d-contig-contig\n",
      "dict_keys(['POSIX', 'MPI-IO', 'H5F', 'H5D', 'STDIO', 'HEATMAP'])\n",
      "Generating config for workflow sync-write-1d-interleaved-interleaved\n",
      "dict_keys(['POSIX', 'MPI-IO', 'H5F', 'H5D', 'STDIO', 'HEATMAP'])\n",
      "Generating config for workflow sync-write-2d-interleaved-contig\n",
      "dict_keys(['POSIX', 'MPI-IO', 'H5F', 'H5D', 'STDIO', 'HEATMAP'])\n",
      "Generating config for workflow sync-write-1d-interleaved-contig\n",
      "dict_keys(['POSIX', 'MPI-IO', 'H5F', 'H5D', 'STDIO', 'HEATMAP'])\n",
      "Generating config for workflow sync-write-3d-contig-contig-read-full\n",
      "dict_keys(['POSIX', 'MPI-IO', 'H5F', 'H5D', 'STDIO', 'HEATMAP'])\n",
      "dict_keys(['POSIX', 'MPI-IO', 'H5F', 'H5D', 'STDIO', 'HEATMAP'])\n",
      "Generating config for workflow sync-write-2d-contig-interleaved\n",
      "dict_keys(['POSIX', 'MPI-IO', 'H5F', 'H5D', 'STDIO', 'HEATMAP'])\n",
      "Generating config for workflow sync-write-2d-contig-contig-read-full\n"
     ]
    },
    {
     "name": "stderr",
     "output_type": "stream",
     "text": [
      "/usr/WS2/iopp/software/h5intent/analysis/intent_generator.py:316: RuntimeWarning: divide by zero encountered in double_scalars\n",
      "  per_re_write = h5d_df_c['H5D_DATASPACE_NPOINTS'][ind] * 1.0 /  num_elements_read\n"
     ]
    },
    {
     "name": "stdout",
     "output_type": "stream",
     "text": [
      "dict_keys(['POSIX', 'MPI-IO', 'H5F', 'H5D', 'STDIO', 'HEATMAP'])\n",
      "dict_keys(['POSIX', 'MPI-IO', 'H5F', 'H5D', 'STDIO', 'HEATMAP'])\n",
      "Generating config for workflow sync-write-1d-contig-contig-read-full\n",
      "dict_keys(['POSIX', 'MPI-IO', 'H5F', 'H5D', 'STDIO', 'HEATMAP'])\n",
      "dict_keys(['POSIX', 'MPI-IO', 'H5F', 'H5D', 'STDIO', 'HEATMAP'])\n",
      "Generating config for workflow sync-write-contig-interleaved\n",
      "dict_keys(['POSIX', 'MPI-IO', 'H5F', 'H5D', 'STDIO', 'HEATMAP'])\n",
      "Generating config for workflow sync-write-read-contig-1d-small\n",
      "dict_keys(['POSIX', 'MPI-IO', 'H5F', 'H5D', 'STDIO', 'HEATMAP'])\n",
      "dict_keys(['POSIX', 'MPI-IO', 'H5F', 'H5D', 'STDIO', 'HEATMAP'])\n",
      "Generating config for workflow sync-write-unlimited\n",
      "dict_keys(['POSIX', 'MPI-IO', 'H5F', 'H5D', 'STDIO', 'HEATMAP'])\n"
     ]
    },
    {
     "name": "stderr",
     "output_type": "stream",
     "text": [
      "/usr/WS2/iopp/software/h5intent/analysis/intent_generator.py:316: RuntimeWarning: divide by zero encountered in double_scalars\n",
      "  per_re_write = h5d_df_c['H5D_DATASPACE_NPOINTS'][ind] * 1.0 /  num_elements_read\n"
     ]
    },
    {
     "name": "stdout",
     "output_type": "stream",
     "text": [
      "Generating config for workflow sync-write-3d-contig-contig\n",
      "dict_keys(['POSIX', 'MPI-IO', 'H5F', 'H5D', 'STDIO', 'HEATMAP'])\n",
      "Generating config for workflow sync-write-2d-interleaved-interleaved\n",
      "dict_keys(['POSIX', 'MPI-IO', 'H5F', 'H5D', 'STDIO', 'HEATMAP'])\n"
     ]
    }
   ],
   "source": [
    "folder = f\"{base_path}/{darshan_logs}\"\n",
    "for workflow in os.listdir(folder):\n",
    "    print(f\"Generating config for workflow {workflow}\")\n",
    "    generator = IntentGenerator(base_path, darshan_logs, property_json, workflow)\n",
    "    generator.parse_apps()\n",
    "    generator.load_apps()\n",
    "    generator.write_configurations()"
   ]
  },
  {
   "cell_type": "code",
   "execution_count": null,
   "id": "844ae7cc",
   "metadata": {},
   "outputs": [],
   "source": []
  },
  {
   "cell_type": "code",
   "execution_count": null,
   "id": "e2b00552",
   "metadata": {},
   "outputs": [],
   "source": []
  },
  {
   "cell_type": "code",
   "execution_count": null,
   "id": "7af526c6-0757-4c88-be14-2f4562239fc3",
   "metadata": {},
   "outputs": [],
   "source": []
  },
  {
   "cell_type": "code",
   "execution_count": null,
   "id": "ce1153c5-23cd-4039-8402-d0699c090bfe",
   "metadata": {},
   "outputs": [],
   "source": []
  },
  {
   "cell_type": "code",
   "execution_count": null,
   "id": "ec3acf9d",
   "metadata": {},
   "outputs": [],
   "source": []
  },
  {
   "cell_type": "code",
   "execution_count": null,
   "id": "e818459f",
   "metadata": {},
   "outputs": [],
   "source": []
  }
 ],
 "metadata": {
  "kernelspec": {
   "display_name": "Python 3 (ipykernel)",
   "language": "python",
   "name": "python3"
  },
  "language_info": {
   "codemirror_mode": {
    "name": "ipython",
    "version": 3
   },
   "file_extension": ".py",
   "mimetype": "text/x-python",
   "name": "python",
   "nbconvert_exporter": "python",
   "pygments_lexer": "ipython3",
   "version": "3.8.13"
  },
  "widgets": {
   "application/vnd.jupyter.widget-state+json": {
    "state": {},
    "version_major": 2,
    "version_minor": 0
   }
  }
 },
 "nbformat": 4,
 "nbformat_minor": 5
}
