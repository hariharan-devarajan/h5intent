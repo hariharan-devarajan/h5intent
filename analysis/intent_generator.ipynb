{
 "cells": [
  {
   "cell_type": "code",
   "execution_count": 1,
   "id": "b5829fa8-97b5-43b4-ad21-00f6ee14bce6",
   "metadata": {},
   "outputs": [],
   "source": [
    "from intent_generator import *"
   ]
  },
  {
   "cell_type": "code",
   "execution_count": 2,
   "id": "314efae6-bf72-4055-8885-19565dd8eae7",
   "metadata": {},
   "outputs": [],
   "source": [
    "base_path=\"/usr/workspace/iopp/software/h5intent/h5bench/\"\n",
    "ppn=40"
   ]
  },
  {
   "cell_type": "code",
   "execution_count": 5,
   "id": "1453c04a",
   "metadata": {},
   "outputs": [
    {
     "name": "stdout",
     "output_type": "stream",
     "text": [
      "Generating config for workflow sync-write-1d-strided-large in /usr/workspace/iopp/software/h5intent/h5bench//darshan-logs/sync_libdarshan_none_32_40\n",
      "dict_keys(['POSIX', 'H5F', 'H5D', 'STDIO', 'HEATMAP'])\n",
      "Generating config for workflow sync-write-1d-strided-medium in /usr/workspace/iopp/software/h5intent/h5bench//darshan-logs/sync_libdarshan_none_32_40\n",
      "dict_keys(['POSIX', 'H5F', 'H5D', 'STDIO', 'HEATMAP'])\n",
      "Generating config for workflow sync-write-1d-strided-small in /usr/workspace/iopp/software/h5intent/h5bench//darshan-logs/sync_libdarshan_none_32_40\n",
      "dict_keys(['POSIX', 'H5F', 'H5D', 'STDIO', 'HEATMAP'])\n",
      "Generating config for workflow sync-write-1d-strided-large-col in /usr/workspace/iopp/software/h5intent/h5bench//darshan-logs/sync_libdarshan_none_32_40\n",
      "dict_keys(['POSIX', 'MPI-IO', 'H5F', 'H5D', 'STDIO', 'HEATMAP'])\n",
      "Generating config for workflow sync-write-1d-strided-medium-col in /usr/workspace/iopp/software/h5intent/h5bench//darshan-logs/sync_libdarshan_none_32_40\n",
      "dict_keys(['POSIX', 'MPI-IO', 'H5F', 'H5D', 'STDIO', 'HEATMAP'])\n",
      "Generating config for workflow sync-write-1d-strided-small-col in /usr/workspace/iopp/software/h5intent/h5bench//darshan-logs/sync_libdarshan_none_32_40\n",
      "dict_keys(['POSIX', 'MPI-IO', 'H5F', 'H5D', 'STDIO', 'HEATMAP'])\n",
      "Generating config for workflow sync-write-1d-strided-large in /usr/workspace/iopp/software/h5intent/h5bench//darshan-logs/sync_libdarshan_none_64_40\n",
      "dict_keys(['POSIX', 'H5F', 'H5D', 'STDIO', 'HEATMAP'])\n",
      "Generating config for workflow sync-write-1d-strided-medium in /usr/workspace/iopp/software/h5intent/h5bench//darshan-logs/sync_libdarshan_none_64_40\n",
      "dict_keys(['POSIX', 'H5F', 'H5D', 'STDIO', 'HEATMAP'])\n",
      "Generating config for workflow sync-write-1d-strided-small in /usr/workspace/iopp/software/h5intent/h5bench//darshan-logs/sync_libdarshan_none_64_40\n",
      "dict_keys(['POSIX', 'H5F', 'H5D', 'STDIO', 'HEATMAP'])\n",
      "Generating config for workflow sync-write-1d-strided-large-col in /usr/workspace/iopp/software/h5intent/h5bench//darshan-logs/sync_libdarshan_none_64_40\n",
      "dict_keys(['POSIX', 'MPI-IO', 'H5F', 'H5D', 'STDIO', 'HEATMAP'])\n",
      "Generating config for workflow sync-write-1d-strided-medium-col in /usr/workspace/iopp/software/h5intent/h5bench//darshan-logs/sync_libdarshan_none_64_40\n",
      "dict_keys(['POSIX', 'MPI-IO', 'H5F', 'H5D', 'STDIO', 'HEATMAP'])\n",
      "Generating config for workflow sync-write-1d-strided-small-col in /usr/workspace/iopp/software/h5intent/h5bench//darshan-logs/sync_libdarshan_none_64_40\n",
      "dict_keys(['POSIX', 'MPI-IO', 'H5F', 'H5D', 'STDIO', 'HEATMAP'])\n",
      "DONE\n"
     ]
    }
   ],
   "source": [
    "for node in [32,64]:\n",
    "    darshan_logs=f\"darshan-logs/sync_libdarshan_none_{node}_40\"\n",
    "    property_json=f\"property-json/sync_libdarshan_none_{node}_40\"\n",
    "    folder = f\"{base_path}/{darshan_logs}\"\n",
    "    for workflow in os.listdir(folder):\n",
    "        print(f\"Generating config for workflow {workflow} in {folder}\")\n",
    "        generator = IntentGenerator(base_path, darshan_logs, property_json, workflow)\n",
    "        generator.parse_apps()\n",
    "        generator.load_apps()\n",
    "        generator.write_configurations()\n",
    "print(\"DONE\")"
   ]
  },
  {
   "cell_type": "code",
   "execution_count": null,
   "id": "844ae7cc",
   "metadata": {},
   "outputs": [],
   "source": []
  },
  {
   "cell_type": "code",
   "execution_count": null,
   "id": "e2b00552",
   "metadata": {},
   "outputs": [],
   "source": []
  },
  {
   "cell_type": "code",
   "execution_count": null,
   "id": "7af526c6-0757-4c88-be14-2f4562239fc3",
   "metadata": {},
   "outputs": [],
   "source": []
  },
  {
   "cell_type": "code",
   "execution_count": null,
   "id": "ce1153c5-23cd-4039-8402-d0699c090bfe",
   "metadata": {},
   "outputs": [],
   "source": []
  },
  {
   "cell_type": "code",
   "execution_count": null,
   "id": "ec3acf9d",
   "metadata": {},
   "outputs": [],
   "source": []
  },
  {
   "cell_type": "code",
   "execution_count": null,
   "id": "e818459f",
   "metadata": {},
   "outputs": [],
   "source": []
  }
 ],
 "metadata": {
  "kernelspec": {
   "display_name": "Python 3 (ipykernel)",
   "language": "python",
   "name": "python3"
  },
  "language_info": {
   "codemirror_mode": {
    "name": "ipython",
    "version": 3
   },
   "file_extension": ".py",
   "mimetype": "text/x-python",
   "name": "python",
   "nbconvert_exporter": "python",
   "pygments_lexer": "ipython3",
   "version": "3.8.13"
  },
  "widgets": {
   "application/vnd.jupyter.widget-state+json": {
    "state": {},
    "version_major": 2,
    "version_minor": 0
   }
  }
 },
 "nbformat": 4,
 "nbformat_minor": 5
}
