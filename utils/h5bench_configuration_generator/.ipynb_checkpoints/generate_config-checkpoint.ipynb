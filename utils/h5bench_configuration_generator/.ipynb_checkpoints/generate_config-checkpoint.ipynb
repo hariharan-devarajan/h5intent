{
 "cells": [
  {
   "cell_type": "code",
   "execution_count": 1,
   "id": "24395f0c-ebbb-4248-a357-5ce811d4879c",
   "metadata": {},
   "outputs": [],
   "source": [
    "#from generate_config import main"
   ]
  },
  {
   "cell_type": "code",
   "execution_count": 7,
   "id": "999c16dd",
   "metadata": {
    "ExecuteTime": {
     "end_time": "2023-07-02T03:29:54.191545Z",
     "start_time": "2023-07-02T03:29:54.040389Z"
    }
   },
   "outputs": [
    {
     "name": "stdout",
     "output_type": "stream",
     "text": [
      "Python 3.6.8\r\n"
     ]
    }
   ],
   "source": []
  },
  {
   "cell_type": "code",
   "execution_count": 1,
   "id": "cf5a0762-8010-40bf-9abd-eee31941a675",
   "metadata": {
    "ExecuteTime": {
     "end_time": "2023-07-02T03:38:06.881306Z",
     "start_time": "2023-07-02T03:38:06.432492Z"
    }
   },
   "outputs": [
    {
     "name": "stdout",
     "output_type": "stream",
     "text": [
      "usage: generate_config.py [-h] [-ppn PROCESSES_PER_NODE] [-n NODES] [-v VOL] [-i VOL_INSTALL_DIR] [-j INTENT_JSON] [-s SYNC] [-d DATA_DIR] [-sd SAMPLE_DIR] [-p PROFILER] [-o OUTPUT_DIR] [-a SCHEDULER]\r\n",
      "\r\n",
      "Generate H5Bench Config\r\n",
      "\r\n",
      "optional arguments:\r\n",
      "  -h, --help            show this help message and exit\r\n",
      "  -ppn PROCESSES_PER_NODE, --processes-per-node PROCESSES_PER_NODE\r\n",
      "                        Number of processes per node in job.\r\n",
      "  -n NODES, --nodes NODES\r\n",
      "                        Number of nodes in job.\r\n",
      "  -v VOL, --vol VOL     Use which vol.\r\n",
      "  -i VOL_INSTALL_DIR, --vol-install-dir VOL_INSTALL_DIR\r\n",
      "                        Vol's install dir.\r\n",
      "  -j INTENT_JSON, --intent-json INTENT_JSON\r\n",
      "                        H5Intent Vol's input json.\r\n",
      "  -s SYNC, --sync SYNC  sync mode. y/n\r\n",
      "  -d DATA_DIR, --data-dir DATA_DIR\r\n",
      "                        Directory to produce logs and data\r\n",
      "  -sd SAMPLE_DIR, --sample-dir SAMPLE_DIR\r\n",
      "                        Original samples from h5bench\r\n",
      "  -p PROFILER, --profiler PROFILER\r\n",
      "                        Profiler SO\r\n",
      "  -o OUTPUT_DIR, --output-dir OUTPUT_DIR\r\n",
      "                        Output Directory\r\n",
      "  -a SCHEDULER, --scheduler SCHEDULER\r\n",
      "                        Scheduler to configure lsf or slurm\r\n"
     ]
    }
   ],
   "source": [
    "!chmod +x ./generate_config.py\n",
    "!python ./generate_config.py --help"
   ]
  },
  {
   "cell_type": "code",
   "execution_count": 2,
   "id": "cad44840",
   "metadata": {
    "ExecuteTime": {
     "end_time": "2023-07-02T03:38:10.117382Z",
     "start_time": "2023-07-02T03:38:09.965981Z"
    },
    "jupyter": {
     "outputs_hidden": false
    }
   },
   "outputs": [
    {
     "name": "stdout",
     "output_type": "stream",
     "text": [
      "/usr/WS2/iopp/software/h5intent/h5intent/h5bench_conf\r\n"
     ]
    }
   ],
   "source": [
    "!echo $PWD"
   ]
  },
  {
   "cell_type": "code",
   "execution_count": 3,
   "id": "3b81d7b7-b99b-498e-a8f6-0e70e11e7cdb",
   "metadata": {
    "ExecuteTime": {
     "end_time": "2023-07-02T03:38:11.183210Z",
     "start_time": "2023-07-02T03:38:11.176330Z"
    }
   },
   "outputs": [],
   "source": [
    "pfs=\"/p/gpfs1/haridev/temp/h5bench\"\n",
    "ppn=40\n",
    "sync=1\n",
    "samples_dir=\"/usr/workspace/iopp/software/h5intent/logs/h5bench_confs/samples\"\n",
    "output_dir=f\"/usr/workspace/iopp/software/h5intent/logs/h5bench_confs/lassen\"\n",
    "scheduler=\"lsf\""
   ]
  },
  {
   "cell_type": "code",
   "execution_count": 4,
   "id": "bef843c7-2227-4d08-ba39-b3ead1c58953",
   "metadata": {},
   "outputs": [
    {
     "name": "stdout",
     "output_type": "stream",
     "text": [
      "Running for node 1\n",
      "\n",
      "none\n",
      "none\n",
      "/usr/workspace/iopp/software/h5intent/logs/h5bench_confs/lassen/sync_none_none_1_40\n",
      "written configuration for file sync-write-1d-strided-small-col.json\n",
      "written configuration for file sync-write-1d-strided-small.json\n",
      "written configuration for file sync-write-1d-strided-medium.json\n",
      "written configuration for file sync-write-1d-strided-medium-col.json\n",
      "written configuration for file sync-write-1d-strided-large-col.json\n",
      "written configuration for file sync-write-1d-strided-large.json\n",
      "Running for node 2\n",
      "\n",
      "none\n",
      "none\n",
      "/usr/workspace/iopp/software/h5intent/logs/h5bench_confs/lassen/sync_none_none_2_40\n",
      "written configuration for file sync-write-1d-strided-small-col.json\n",
      "written configuration for file sync-write-1d-strided-small.json\n",
      "written configuration for file sync-write-1d-strided-medium.json\n",
      "written configuration for file sync-write-1d-strided-medium-col.json\n",
      "written configuration for file sync-write-1d-strided-large-col.json\n",
      "written configuration for file sync-write-1d-strided-large.json\n",
      "Running for node 4\n",
      "\n",
      "none\n",
      "none\n",
      "/usr/workspace/iopp/software/h5intent/logs/h5bench_confs/lassen/sync_none_none_4_40\n",
      "written configuration for file sync-write-1d-strided-small-col.json\n",
      "written configuration for file sync-write-1d-strided-small.json\n",
      "written configuration for file sync-write-1d-strided-medium.json\n",
      "written configuration for file sync-write-1d-strided-medium-col.json\n",
      "written configuration for file sync-write-1d-strided-large-col.json\n",
      "written configuration for file sync-write-1d-strided-large.json\n",
      "Running for node 8\n",
      "\n",
      "none\n",
      "none\n",
      "/usr/workspace/iopp/software/h5intent/logs/h5bench_confs/lassen/sync_none_none_8_40\n",
      "written configuration for file sync-write-1d-strided-small-col.json\n",
      "written configuration for file sync-write-1d-strided-small.json\n",
      "written configuration for file sync-write-1d-strided-medium.json\n",
      "written configuration for file sync-write-1d-strided-medium-col.json\n",
      "written configuration for file sync-write-1d-strided-large-col.json\n",
      "written configuration for file sync-write-1d-strided-large.json\n",
      "Running for node 16\n",
      "\n",
      "none\n",
      "none\n",
      "/usr/workspace/iopp/software/h5intent/logs/h5bench_confs/lassen/sync_none_none_16_40\n",
      "written configuration for file sync-write-1d-strided-small-col.json\n",
      "written configuration for file sync-write-1d-strided-small.json\n",
      "written configuration for file sync-write-1d-strided-medium.json\n",
      "written configuration for file sync-write-1d-strided-medium-col.json\n",
      "written configuration for file sync-write-1d-strided-large-col.json\n",
      "written configuration for file sync-write-1d-strided-large.json\n",
      "Running for node 32\n",
      "\n",
      "none\n",
      "none\n",
      "/usr/workspace/iopp/software/h5intent/logs/h5bench_confs/lassen/sync_none_none_32_40\n",
      "written configuration for file sync-write-1d-strided-small-col.json\n",
      "written configuration for file sync-write-1d-strided-small.json\n",
      "written configuration for file sync-write-1d-strided-medium.json\n",
      "written configuration for file sync-write-1d-strided-medium-col.json\n",
      "written configuration for file sync-write-1d-strided-large-col.json\n",
      "written configuration for file sync-write-1d-strided-large.json\n",
      "Running for node 64\n",
      "\n",
      "none\n",
      "none\n",
      "/usr/workspace/iopp/software/h5intent/logs/h5bench_confs/lassen/sync_none_none_64_40\n",
      "written configuration for file sync-write-1d-strided-small-col.json\n",
      "written configuration for file sync-write-1d-strided-small.json\n",
      "written configuration for file sync-write-1d-strided-medium.json\n",
      "written configuration for file sync-write-1d-strided-medium-col.json\n",
      "written configuration for file sync-write-1d-strided-large-col.json\n",
      "written configuration for file sync-write-1d-strided-large.json\n",
      "Running for node 128\n",
      "\n",
      "none\n",
      "none\n",
      "/usr/workspace/iopp/software/h5intent/logs/h5bench_confs/lassen/sync_none_none_128_40\n",
      "written configuration for file sync-write-1d-strided-small-col.json\n",
      "written configuration for file sync-write-1d-strided-small.json\n",
      "written configuration for file sync-write-1d-strided-medium.json\n",
      "written configuration for file sync-write-1d-strided-medium-col.json\n",
      "written configuration for file sync-write-1d-strided-large-col.json\n",
      "written configuration for file sync-write-1d-strided-large.json\n"
     ]
    }
   ],
   "source": [
    "for node in [1,2,4,8,16,32,64,128]:\n",
    "    !echo \"Running for node $node\"\n",
    "    !python ./generate_config.py -n $node -ppn $ppn -s $sync -d $pfs -sd $samples_dir -o $output_dir -a $scheduler"
   ]
  },
  {
   "cell_type": "code",
   "execution_count": 5,
   "id": "78e316ac-e728-4dff-8c25-2abf1b9822eb",
   "metadata": {},
   "outputs": [],
   "source": [
    "profiler=\"/usr/workspace/iopp/software/h5intent/dependency-profile/.spack-env/view/lib/libdarshan.so\""
   ]
  },
  {
   "cell_type": "code",
   "execution_count": 6,
   "id": "da2525e5-d813-4fda-a30e-397b9abc94f4",
   "metadata": {},
   "outputs": [
    {
     "name": "stdout",
     "output_type": "stream",
     "text": [
      "Running for node 1\n",
      "/usr/workspace/iopp/software/h5intent/dependency-profile/.spack-env/view/lib/libdarshan.so\n",
      "libdarshan\n",
      "none\n",
      "/usr/workspace/iopp/software/h5intent/logs/h5bench_confs/lassen/sync_libdarshan_none_1_40\n",
      "written configuration for file sync-write-1d-strided-small-col.json\n",
      "written configuration for file sync-write-1d-strided-small.json\n",
      "written configuration for file sync-write-1d-strided-medium.json\n",
      "written configuration for file sync-write-1d-strided-medium-col.json\n",
      "written configuration for file sync-write-1d-strided-large-col.json\n",
      "written configuration for file sync-write-1d-strided-large.json\n",
      "Running for node 2\n",
      "/usr/workspace/iopp/software/h5intent/dependency-profile/.spack-env/view/lib/libdarshan.so\n",
      "libdarshan\n",
      "none\n",
      "/usr/workspace/iopp/software/h5intent/logs/h5bench_confs/lassen/sync_libdarshan_none_2_40\n",
      "written configuration for file sync-write-1d-strided-small-col.json\n",
      "written configuration for file sync-write-1d-strided-small.json\n",
      "written configuration for file sync-write-1d-strided-medium.json\n",
      "written configuration for file sync-write-1d-strided-medium-col.json\n",
      "written configuration for file sync-write-1d-strided-large-col.json\n",
      "written configuration for file sync-write-1d-strided-large.json\n",
      "Running for node 4\n",
      "/usr/workspace/iopp/software/h5intent/dependency-profile/.spack-env/view/lib/libdarshan.so\n",
      "libdarshan\n",
      "none\n",
      "/usr/workspace/iopp/software/h5intent/logs/h5bench_confs/lassen/sync_libdarshan_none_4_40\n",
      "written configuration for file sync-write-1d-strided-small-col.json\n",
      "written configuration for file sync-write-1d-strided-small.json\n",
      "written configuration for file sync-write-1d-strided-medium.json\n",
      "written configuration for file sync-write-1d-strided-medium-col.json\n",
      "written configuration for file sync-write-1d-strided-large-col.json\n",
      "written configuration for file sync-write-1d-strided-large.json\n",
      "Running for node 8\n",
      "/usr/workspace/iopp/software/h5intent/dependency-profile/.spack-env/view/lib/libdarshan.so\n",
      "libdarshan\n",
      "none\n",
      "/usr/workspace/iopp/software/h5intent/logs/h5bench_confs/lassen/sync_libdarshan_none_8_40\n",
      "written configuration for file sync-write-1d-strided-small-col.json\n",
      "written configuration for file sync-write-1d-strided-small.json\n",
      "written configuration for file sync-write-1d-strided-medium.json\n",
      "written configuration for file sync-write-1d-strided-medium-col.json\n",
      "written configuration for file sync-write-1d-strided-large-col.json\n",
      "written configuration for file sync-write-1d-strided-large.json\n",
      "Running for node 16\n",
      "/usr/workspace/iopp/software/h5intent/dependency-profile/.spack-env/view/lib/libdarshan.so\n",
      "libdarshan\n",
      "none\n",
      "/usr/workspace/iopp/software/h5intent/logs/h5bench_confs/lassen/sync_libdarshan_none_16_40\n",
      "written configuration for file sync-write-1d-strided-small-col.json\n",
      "written configuration for file sync-write-1d-strided-small.json\n",
      "written configuration for file sync-write-1d-strided-medium.json\n",
      "written configuration for file sync-write-1d-strided-medium-col.json\n",
      "written configuration for file sync-write-1d-strided-large-col.json\n",
      "written configuration for file sync-write-1d-strided-large.json\n",
      "Running for node 32\n",
      "/usr/workspace/iopp/software/h5intent/dependency-profile/.spack-env/view/lib/libdarshan.so\n",
      "libdarshan\n",
      "none\n",
      "/usr/workspace/iopp/software/h5intent/logs/h5bench_confs/lassen/sync_libdarshan_none_32_40\n",
      "written configuration for file sync-write-1d-strided-small-col.json\n",
      "written configuration for file sync-write-1d-strided-small.json\n",
      "written configuration for file sync-write-1d-strided-medium.json\n",
      "written configuration for file sync-write-1d-strided-medium-col.json\n",
      "written configuration for file sync-write-1d-strided-large-col.json\n",
      "written configuration for file sync-write-1d-strided-large.json\n",
      "Running for node 64\n",
      "/usr/workspace/iopp/software/h5intent/dependency-profile/.spack-env/view/lib/libdarshan.so\n",
      "libdarshan\n",
      "none\n",
      "/usr/workspace/iopp/software/h5intent/logs/h5bench_confs/lassen/sync_libdarshan_none_64_40\n",
      "written configuration for file sync-write-1d-strided-small-col.json\n",
      "written configuration for file sync-write-1d-strided-small.json\n",
      "written configuration for file sync-write-1d-strided-medium.json\n",
      "written configuration for file sync-write-1d-strided-medium-col.json\n",
      "written configuration for file sync-write-1d-strided-large-col.json\n",
      "written configuration for file sync-write-1d-strided-large.json\n",
      "Running for node 128\n",
      "/usr/workspace/iopp/software/h5intent/dependency-profile/.spack-env/view/lib/libdarshan.so\n",
      "libdarshan\n",
      "none\n",
      "/usr/workspace/iopp/software/h5intent/logs/h5bench_confs/lassen/sync_libdarshan_none_128_40\n",
      "written configuration for file sync-write-1d-strided-small-col.json\n",
      "written configuration for file sync-write-1d-strided-small.json\n",
      "written configuration for file sync-write-1d-strided-medium.json\n",
      "written configuration for file sync-write-1d-strided-medium-col.json\n",
      "written configuration for file sync-write-1d-strided-large-col.json\n",
      "written configuration for file sync-write-1d-strided-large.json\n"
     ]
    }
   ],
   "source": [
    "for node in [1,2,4,8,16,32,64,128]:\n",
    "    !echo \"Running for node $node\"\n",
    "    !python ./generate_config.py -n $node -ppn $ppn -s $sync -d $pfs -sd $samples_dir -o $output_dir -p $profiler -a $scheduler"
   ]
  },
  {
   "cell_type": "code",
   "execution_count": 7,
   "id": "683bf377-5542-442a-8e4a-4fedcb1d3969",
   "metadata": {},
   "outputs": [],
   "source": [
    "vol=\"intent\"\n",
    "vol_install_dir=\"/usr/workspace/iopp/software/h5intent/build\""
   ]
  },
  {
   "cell_type": "code",
   "execution_count": 8,
   "id": "38a43197-f559-4f21-abcc-aee0bccf324e",
   "metadata": {},
   "outputs": [
    {
     "name": "stdout",
     "output_type": "stream",
     "text": [
      "Running for node 1\n",
      "\n",
      "none\n",
      "intent\n",
      "/usr/workspace/iopp/software/h5intent/logs/h5bench_confs/lassen/sync_none_intent_1_40\n",
      "written configuration for file sync-write-1d-strided-small-col.json\n",
      "written configuration for file sync-write-1d-strided-small.json\n",
      "written configuration for file sync-write-1d-strided-medium.json\n",
      "written configuration for file sync-write-1d-strided-medium-col.json\n",
      "written configuration for file sync-write-1d-strided-large-col.json\n",
      "written configuration for file sync-write-1d-strided-large.json\n",
      "Running for node 2\n",
      "\n",
      "none\n",
      "intent\n",
      "/usr/workspace/iopp/software/h5intent/logs/h5bench_confs/lassen/sync_none_intent_2_40\n",
      "written configuration for file sync-write-1d-strided-small-col.json\n",
      "written configuration for file sync-write-1d-strided-small.json\n",
      "written configuration for file sync-write-1d-strided-medium.json\n",
      "written configuration for file sync-write-1d-strided-medium-col.json\n",
      "written configuration for file sync-write-1d-strided-large-col.json\n",
      "written configuration for file sync-write-1d-strided-large.json\n",
      "Running for node 4\n",
      "\n",
      "none\n",
      "intent\n",
      "/usr/workspace/iopp/software/h5intent/logs/h5bench_confs/lassen/sync_none_intent_4_40\n",
      "written configuration for file sync-write-1d-strided-small-col.json\n",
      "written configuration for file sync-write-1d-strided-small.json\n",
      "written configuration for file sync-write-1d-strided-medium.json\n",
      "written configuration for file sync-write-1d-strided-medium-col.json\n",
      "written configuration for file sync-write-1d-strided-large-col.json\n",
      "written configuration for file sync-write-1d-strided-large.json\n",
      "Running for node 8\n",
      "\n",
      "none\n",
      "intent\n",
      "/usr/workspace/iopp/software/h5intent/logs/h5bench_confs/lassen/sync_none_intent_8_40\n",
      "written configuration for file sync-write-1d-strided-small-col.json\n",
      "written configuration for file sync-write-1d-strided-small.json\n",
      "written configuration for file sync-write-1d-strided-medium.json\n",
      "written configuration for file sync-write-1d-strided-medium-col.json\n",
      "written configuration for file sync-write-1d-strided-large-col.json\n",
      "written configuration for file sync-write-1d-strided-large.json\n",
      "Running for node 16\n",
      "\n",
      "none\n",
      "intent\n",
      "/usr/workspace/iopp/software/h5intent/logs/h5bench_confs/lassen/sync_none_intent_16_40\n",
      "written configuration for file sync-write-1d-strided-small-col.json\n",
      "written configuration for file sync-write-1d-strided-small.json\n",
      "written configuration for file sync-write-1d-strided-medium.json\n",
      "written configuration for file sync-write-1d-strided-medium-col.json\n",
      "written configuration for file sync-write-1d-strided-large-col.json\n",
      "written configuration for file sync-write-1d-strided-large.json\n",
      "Running for node 32\n",
      "\n",
      "none\n",
      "intent\n",
      "/usr/workspace/iopp/software/h5intent/logs/h5bench_confs/lassen/sync_none_intent_32_40\n",
      "written configuration for file sync-write-1d-strided-small-col.json\n",
      "written configuration for file sync-write-1d-strided-small.json\n",
      "written configuration for file sync-write-1d-strided-medium.json\n",
      "written configuration for file sync-write-1d-strided-medium-col.json\n",
      "written configuration for file sync-write-1d-strided-large-col.json\n",
      "written configuration for file sync-write-1d-strided-large.json\n",
      "Running for node 64\n",
      "\n",
      "none\n",
      "intent\n",
      "/usr/workspace/iopp/software/h5intent/logs/h5bench_confs/lassen/sync_none_intent_64_40\n",
      "written configuration for file sync-write-1d-strided-small-col.json\n",
      "written configuration for file sync-write-1d-strided-small.json\n",
      "written configuration for file sync-write-1d-strided-medium.json\n",
      "written configuration for file sync-write-1d-strided-medium-col.json\n",
      "written configuration for file sync-write-1d-strided-large-col.json\n",
      "written configuration for file sync-write-1d-strided-large.json\n",
      "Running for node 128\n",
      "\n",
      "none\n",
      "intent\n",
      "/usr/workspace/iopp/software/h5intent/logs/h5bench_confs/lassen/sync_none_intent_128_40\n",
      "written configuration for file sync-write-1d-strided-small-col.json\n",
      "written configuration for file sync-write-1d-strided-small.json\n",
      "written configuration for file sync-write-1d-strided-medium.json\n",
      "written configuration for file sync-write-1d-strided-medium-col.json\n",
      "written configuration for file sync-write-1d-strided-large-col.json\n",
      "written configuration for file sync-write-1d-strided-large.json\n"
     ]
    }
   ],
   "source": [
    "for node in [1,2,4,8,16,32,64,128]:\n",
    "    !echo \"Running for node $node\"\n",
    "    vol_json=f\"/usr/WS2/iopp/software/h5intent/logs/property-json/sync_libdarshan_none_{node}_{ppn}\"\n",
    "    !python ./generate_config.py -n $node -ppn $ppn -s $sync -d $pfs -sd $samples_dir -v $vol -i $vol_install_dir -j $vol_json -o $output_dir -a $scheduler"
   ]
  },
  {
   "cell_type": "code",
   "execution_count": 6,
   "id": "5734ad1d-aba5-466e-a96e-c5853b41184f",
   "metadata": {
    "ExecuteTime": {
     "end_time": "2023-07-02T03:38:36.425868Z",
     "start_time": "2023-07-02T03:38:36.420869Z"
    }
   },
   "outputs": [],
   "source": [
    "samples_dir=\"/usr/workspace/iopp/software/h5intent/presentation/logs/h5bench_confs/samples\"\n",
    "output_dir=f\"/usr/workspace/iopp/software/h5intent/presentation/logs/h5bench_confs/lassen\""
   ]
  },
  {
   "cell_type": "code",
   "execution_count": 7,
   "id": "afbc6bc7",
   "metadata": {
    "ExecuteTime": {
     "end_time": "2023-07-02T03:38:38.355035Z",
     "start_time": "2023-07-02T03:38:37.219310Z"
    }
   },
   "outputs": [
    {
     "name": "stdout",
     "output_type": "stream",
     "text": [
      "Running for node 1\n",
      "\n",
      "none\n",
      "none\n",
      "/usr/workspace/iopp/software/h5intent/presentation/logs/h5bench_confs/lassen/sync_none_none_1_40\n",
      "written configuration for file sync-write-1d-strided-small.json\n",
      "written configuration for file sync-write-1d-strided-small-col.json\n",
      "Running for node 2\n",
      "\n",
      "none\n",
      "none\n",
      "/usr/workspace/iopp/software/h5intent/presentation/logs/h5bench_confs/lassen/sync_none_none_2_40\n",
      "written configuration for file sync-write-1d-strided-small.json\n",
      "written configuration for file sync-write-1d-strided-small-col.json\n",
      "Running for node 4\n",
      "\n",
      "none\n",
      "none\n",
      "/usr/workspace/iopp/software/h5intent/presentation/logs/h5bench_confs/lassen/sync_none_none_4_40\n",
      "written configuration for file sync-write-1d-strided-small.json\n",
      "written configuration for file sync-write-1d-strided-small-col.json\n"
     ]
    }
   ],
   "source": [
    "for node in [1,2,4]:\n",
    "    !echo \"Running for node $node\"\n",
    "    !python ./generate_config.py -n $node -ppn $ppn -s $sync -d $pfs -sd $samples_dir -o $output_dir -a $scheduler"
   ]
  },
  {
   "cell_type": "code",
   "execution_count": 8,
   "id": "9830c385",
   "metadata": {
    "ExecuteTime": {
     "end_time": "2023-07-02T03:39:13.074320Z",
     "start_time": "2023-07-02T03:39:11.943512Z"
    }
   },
   "outputs": [
    {
     "name": "stdout",
     "output_type": "stream",
     "text": [
      "Running for node 1\n",
      "/usr/workspace/iopp/software/h5intent/dependency-profile/.spack-env/view/lib/libdarshan.so\n",
      "libdarshan\n",
      "none\n",
      "/usr/workspace/iopp/software/h5intent/presentation/logs/h5bench_confs/lassen/sync_libdarshan_none_1_40\n",
      "written configuration for file sync-write-1d-strided-small.json\n",
      "written configuration for file sync-write-1d-strided-small-col.json\n",
      "Running for node 2\n",
      "/usr/workspace/iopp/software/h5intent/dependency-profile/.spack-env/view/lib/libdarshan.so\n",
      "libdarshan\n",
      "none\n",
      "/usr/workspace/iopp/software/h5intent/presentation/logs/h5bench_confs/lassen/sync_libdarshan_none_2_40\n",
      "written configuration for file sync-write-1d-strided-small.json\n",
      "written configuration for file sync-write-1d-strided-small-col.json\n",
      "Running for node 4\n",
      "/usr/workspace/iopp/software/h5intent/dependency-profile/.spack-env/view/lib/libdarshan.so\n",
      "libdarshan\n",
      "none\n",
      "/usr/workspace/iopp/software/h5intent/presentation/logs/h5bench_confs/lassen/sync_libdarshan_none_4_40\n",
      "written configuration for file sync-write-1d-strided-small.json\n",
      "written configuration for file sync-write-1d-strided-small-col.json\n"
     ]
    }
   ],
   "source": [
    "profiler=\"/usr/workspace/iopp/software/h5intent/dependency-profile/.spack-env/view/lib/libdarshan.so\"\n",
    "for node in [1,2,4]:\n",
    "    !echo \"Running for node $node\"\n",
    "    !python ./generate_config.py -n $node -ppn $ppn -s $sync -d $pfs -sd $samples_dir -o $output_dir -p $profiler -a $scheduler"
   ]
  },
  {
   "cell_type": "code",
   "execution_count": 9,
   "id": "9efb6f00",
   "metadata": {
    "ExecuteTime": {
     "end_time": "2023-07-02T03:40:12.891524Z",
     "start_time": "2023-07-02T03:40:11.749193Z"
    }
   },
   "outputs": [
    {
     "name": "stdout",
     "output_type": "stream",
     "text": [
      "Running for node 1\n",
      "\n",
      "none\n",
      "intent\n",
      "/usr/workspace/iopp/software/h5intent/presentation/logs/h5bench_confs/lassen/sync_none_intent_1_40\n",
      "written configuration for file sync-write-1d-strided-small.json\n",
      "written configuration for file sync-write-1d-strided-small-col.json\n",
      "Running for node 2\n",
      "\n",
      "none\n",
      "intent\n",
      "/usr/workspace/iopp/software/h5intent/presentation/logs/h5bench_confs/lassen/sync_none_intent_2_40\n",
      "written configuration for file sync-write-1d-strided-small.json\n",
      "written configuration for file sync-write-1d-strided-small-col.json\n",
      "Running for node 4\n",
      "\n",
      "none\n",
      "intent\n",
      "/usr/workspace/iopp/software/h5intent/presentation/logs/h5bench_confs/lassen/sync_none_intent_4_40\n",
      "written configuration for file sync-write-1d-strided-small.json\n",
      "written configuration for file sync-write-1d-strided-small-col.json\n"
     ]
    }
   ],
   "source": [
    "vol=\"intent\"\n",
    "vol_install_dir=\"/usr/workspace/iopp/software/h5intent/build\"\n",
    "for node in [1,2,4]:\n",
    "    !echo \"Running for node $node\"\n",
    "    vol_json=f\"/usr/WS2/iopp/software/h5intent/logs/property-json/sync_libdarshan_none_{node}_{ppn}\"\n",
    "    !python ./generate_config.py -n $node -ppn $ppn -s $sync -d $pfs -sd $samples_dir -v $vol -i $vol_install_dir -j $vol_json -o $output_dir -a $scheduler"
   ]
  },
  {
   "cell_type": "code",
   "execution_count": null,
   "id": "c6c330ba",
   "metadata": {},
   "outputs": [],
   "source": []
  }
 ],
 "metadata": {
  "kernelspec": {
   "display_name": "Python 3 (ipykernel)",
   "language": "python",
   "name": "python3"
  },
  "language_info": {
   "codemirror_mode": {
    "name": "ipython",
    "version": 3
   },
   "file_extension": ".py",
   "mimetype": "text/x-python",
   "name": "python",
   "nbconvert_exporter": "python",
   "pygments_lexer": "ipython3",
   "version": "3.8.13"
  },
  "varInspector": {
   "cols": {
    "lenName": 16,
    "lenType": 16,
    "lenVar": 40
   },
   "kernels_config": {
    "python": {
     "delete_cmd_postfix": "",
     "delete_cmd_prefix": "del ",
     "library": "var_list.py",
     "varRefreshCmd": "print(var_dic_list())"
    },
    "r": {
     "delete_cmd_postfix": ") ",
     "delete_cmd_prefix": "rm(",
     "library": "var_list.r",
     "varRefreshCmd": "cat(var_dic_list()) "
    }
   },
   "types_to_exclude": [
    "module",
    "function",
    "builtin_function_or_method",
    "instance",
    "_Feature"
   ],
   "window_display": false
  },
  "widgets": {
   "application/vnd.jupyter.widget-state+json": {
    "state": {},
    "version_major": 2,
    "version_minor": 0
   }
  }
 },
 "nbformat": 4,
 "nbformat_minor": 5
}
