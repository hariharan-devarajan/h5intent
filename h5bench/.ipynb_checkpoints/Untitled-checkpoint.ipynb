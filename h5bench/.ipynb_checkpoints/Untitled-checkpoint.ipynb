{
 "cells": [
  {
   "cell_type": "code",
   "execution_count": 1,
   "id": "24395f0c-ebbb-4248-a357-5ce811d4879c",
   "metadata": {},
   "outputs": [],
   "source": [
    "#from generate_config import main"
   ]
  },
  {
   "cell_type": "code",
   "execution_count": 18,
   "id": "a952ad7c-7138-4888-a7a1-c3105e882bdc",
   "metadata": {},
   "outputs": [],
   "source": [
    "def gen():\n",
    "    for i in range(10):\n",
    "        yield i"
   ]
  },
  {
   "cell_type": "code",
   "execution_count": 21,
   "id": "b6c55f8f-0822-4ccd-851c-f56f2237cca7",
   "metadata": {},
   "outputs": [
    {
     "ename": "SyntaxError",
     "evalue": "invalid syntax (3661768189.py, line 2)",
     "output_type": "error",
     "traceback": [
      "\u001b[0;36m  File \u001b[0;32m\"/var/tmp/ipykernel_101123/3661768189.py\"\u001b[0;36m, line \u001b[0;32m2\u001b[0m\n\u001b[0;31m    @contextlib.?contextmanager\u001b[0m\n\u001b[0m                ^\u001b[0m\n\u001b[0;31mSyntaxError\u001b[0m\u001b[0;31m:\u001b[0m invalid syntax\n"
     ]
    }
   ],
   "source": [
    "import contextlib\n",
    "@contextlib.contextmanager\n",
    "def wrap_loop():\n",
    "    print(\"hello\")\n",
    "    yield\n",
    "    "
   ]
  },
  {
   "cell_type": "code",
   "execution_count": 22,
   "id": "c5d544a7-e6f6-4fc5-9aae-2f9919cb1a83",
   "metadata": {},
   "outputs": [
    {
     "ename": "SyntaxError",
     "evalue": "invalid syntax (1078497061.py, line 1)",
     "output_type": "error",
     "traceback": [
      "\u001b[0;36m  File \u001b[0;32m\"/var/tmp/ipykernel_101123/1078497061.py\"\u001b[0;36m, line \u001b[0;32m1\u001b[0m\n\u001b[0;31m    for i in with wrap_loop: gen():\u001b[0m\n\u001b[0m             ^\u001b[0m\n\u001b[0;31mSyntaxError\u001b[0m\u001b[0;31m:\u001b[0m invalid syntax\n"
     ]
    }
   ],
   "source": [
    "for i in with wrap_loop: gen():\n",
    "    print(i)"
   ]
  },
  {
   "cell_type": "code",
   "execution_count": null,
   "id": "cd07582e-59df-47ba-b05f-90e618ed42d5",
   "metadata": {},
   "outputs": [],
   "source": []
  },
  {
   "cell_type": "code",
   "execution_count": null,
   "id": "3e5d6938-af32-4f70-af1e-f7b197379b4e",
   "metadata": {},
   "outputs": [],
   "source": []
  },
  {
   "cell_type": "code",
   "execution_count": null,
   "id": "629531cb-896b-4c03-83fd-ca0755e36dd6",
   "metadata": {},
   "outputs": [],
   "source": []
  },
  {
   "cell_type": "code",
   "execution_count": 1,
   "id": "cf5a0762-8010-40bf-9abd-eee31941a675",
   "metadata": {},
   "outputs": [
    {
     "name": "stdout",
     "output_type": "stream",
     "text": [
      "usage: generate_config.py [-h] [-ppn PROCESSES_PER_NODE] [-n NODES] [-v VOL]\n",
      "                          [-i VOL_INSTALL_DIR] [-j INTENT_JSON] [-s SYNC]\n",
      "                          [-d DATA_DIR] [-sd SAMPLE_DIR] [-p PROFILER]\n",
      "                          [-o OUTPUT_DIR]\n",
      "\n",
      "Generate H5Bench Config\n",
      "\n",
      "optional arguments:\n",
      "  -h, --help            show this help message and exit\n",
      "  -ppn PROCESSES_PER_NODE, --processes-per-node PROCESSES_PER_NODE\n",
      "                        Number of processes per node in job.\n",
      "  -n NODES, --nodes NODES\n",
      "                        Number of nodes in job.\n",
      "  -v VOL, --vol VOL     Use which vol.\n",
      "  -i VOL_INSTALL_DIR, --vol-install-dir VOL_INSTALL_DIR\n",
      "                        Vol's install dir.\n",
      "  -j INTENT_JSON, --intent-json INTENT_JSON\n",
      "                        H5Intent Vol's input json.\n",
      "  -s SYNC, --sync SYNC  sync mode. y/n\n",
      "  -d DATA_DIR, --data-dir DATA_DIR\n",
      "                        Directory to produce logs and data\n",
      "  -sd SAMPLE_DIR, --sample-dir SAMPLE_DIR\n",
      "                        Original samples from h5bench\n",
      "  -p PROFILER, --profiler PROFILER\n",
      "                        Profiler SO\n",
      "  -o OUTPUT_DIR, --output-dir OUTPUT_DIR\n",
      "                        Output Directory\n"
     ]
    }
   ],
   "source": [
    "!chmod +x ./generate_config.py\n",
    "!python ./generate_config.py --help"
   ]
  },
  {
   "cell_type": "code",
   "execution_count": 2,
   "id": "cad44840",
   "metadata": {
    "collapsed": false,
    "jupyter": {
     "outputs_hidden": false
    }
   },
   "outputs": [
    {
     "name": "stdout",
     "output_type": "stream",
     "text": [
      "/usr/WS2/iopp/software/h5intent/h5bench\n"
     ]
    }
   ],
   "source": [
    "!echo $PWD"
   ]
  },
  {
   "cell_type": "code",
   "execution_count": 82,
   "id": "3b81d7b7-b99b-498e-a8f6-0e70e11e7cdb",
   "metadata": {},
   "outputs": [],
   "source": [
    "pfs=\"/p/gpfs1/iopp/temp/h5bench\"\n",
    "nodes=128\n",
    "ppn=40\n",
    "sync=1\n",
    "samples_dir=\"/usr/workspace/iopp/software/h5intent/vol/test/data/samples\"\n",
    "output_dir=f\"/usr/workspace/iopp/software/h5intent/vol/test/data\""
   ]
  },
  {
   "cell_type": "code",
   "execution_count": 83,
   "id": "bef843c7-2227-4d08-ba39-b3ead1c58953",
   "metadata": {},
   "outputs": [
    {
     "name": "stdout",
     "output_type": "stream",
     "text": [
      "\n",
      "none\n",
      "none\n",
      "/usr/workspace/iopp/software/h5intent/vol/test/data/sync_none_none_128_40\n",
      "written configuration for file sync-write-1d-strided-small.json\n",
      "written configuration for file sync-write-1d-strided-medium.json\n",
      "written configuration for file sync-write-1d-strided-large.json\n"
     ]
    }
   ],
   "source": [
    "!python ./generate_config.py -n $nodes -ppn $ppn -s $sync -d $pfs -sd $samples_dir -o $output_dir"
   ]
  },
  {
   "cell_type": "code",
   "execution_count": 16,
   "id": "78e316ac-e728-4dff-8c25-2abf1b9822eb",
   "metadata": {},
   "outputs": [],
   "source": [
    "pfs=\"/p/gpfs1/iopp/temp/h5bench\"\n",
    "nodes=128\n",
    "ppn=40\n",
    "sync=1\n",
    "samples_dir=\"/usr/workspace/iopp/software/h5intent/vol/test/data/samples\"\n",
    "profiler=\"/usr/workspace/iopp/software/h5intent/dependency-profile/.spack-env/view/lib/libdarshan.so\"\n",
    "output_dir=f\"/usr/workspace/iopp/software/h5intent/vol/test/data\""
   ]
  },
  {
   "cell_type": "code",
   "execution_count": 17,
   "id": "da2525e5-d813-4fda-a30e-397b9abc94f4",
   "metadata": {},
   "outputs": [
    {
     "name": "stdout",
     "output_type": "stream",
     "text": [
      "/usr/workspace/iopp/software/h5intent/dependency-profile/.spack-env/view/lib/libdarshan.so\n",
      "libdarshan\n",
      "none\n",
      "/usr/workspace/iopp/software/h5intent/vol/test/data/sync_libdarshan_none_128_40\n",
      "written configuration for file sync-write-1d-strided-small.json\n",
      "written configuration for file sync-write-1d-strided-medium.json\n",
      "written configuration for file sync-write-1d-strided-large.json\n"
     ]
    }
   ],
   "source": [
    "!python ./generate_config.py -n $nodes -ppn $ppn -s $sync -d $pfs -sd $samples_dir -o $output_dir -p $profiler"
   ]
  },
  {
   "cell_type": "code",
   "execution_count": 11,
   "id": "683bf377-5542-442a-8e4a-4fedcb1d3969",
   "metadata": {},
   "outputs": [],
   "source": [
    "pfs=\"/p/gpfs1/iopp/temp/h5bench\"\n",
    "nodes=32\n",
    "ppn=40\n",
    "sync=1\n",
    "samples_dir=\"/usr/workspace/iopp/software/h5intent/vol/test/data/samples\"\n",
    "profiler=\"/usr/workspace/iopp/software/h5intent/dependency/.spack-env/view/lib/libdarshan.so\"\n",
    "output_dir=f\"/usr/workspace/iopp/software/h5intent/vol/test/data\"\n",
    "vol=\"intent\"\n",
    "vol_install_dir=\"/usr/workspace/iopp/software/h5intent/build\"\n",
    "vol_json=f\"/usr/workspace/iopp/software/h5intent/vol/test/h5bench/property-json/sync_libdarshan_none_{nodes}_{ppn}\""
   ]
  },
  {
   "cell_type": "code",
   "execution_count": 12,
   "id": "38a43197-f559-4f21-abcc-aee0bccf324e",
   "metadata": {},
   "outputs": [
    {
     "name": "stdout",
     "output_type": "stream",
     "text": [
      "\n",
      "none\n",
      "intent\n",
      "/usr/workspace/iopp/software/h5intent/vol/test/data/sync_none_intent_32_40\n",
      "written configuration for file sync-write-1d-strided-small.json\n",
      "written configuration for file sync-write-1d-strided-medium.json\n",
      "written configuration for file sync-write-1d-strided-large.json\n"
     ]
    }
   ],
   "source": [
    "!python ./generate_config.py -n $nodes -ppn $ppn -s $sync -d $pfs -sd $samples_dir -v $vol -i $vol_install_dir -j $vol_json -o $output_dir"
   ]
  },
  {
   "cell_type": "code",
   "execution_count": 12,
   "id": "d940f315",
   "metadata": {
    "collapsed": false,
    "jupyter": {
     "outputs_hidden": false
    }
   },
   "outputs": [
    {
     "name": "stdout",
     "output_type": "stream",
     "text": [
      "/home/haridev/CLionProjects/h5intent/install\n"
     ]
    }
   ],
   "source": [
    "!echo `dirname $PWD`/build"
   ]
  },
  {
   "cell_type": "code",
   "execution_count": null,
   "id": "adb36569",
   "metadata": {
    "collapsed": false,
    "jupyter": {
     "outputs_hidden": false
    }
   },
   "outputs": [],
   "source": [
    "!python ./generate_config.py -n 1 -ppn 40 -s 1 -d $PWD -sd ./samples -v h5intent -i `dirname $PWD`/build"
   ]
  },
  {
   "cell_type": "code",
   "execution_count": 2,
   "id": "90b26d37-64ed-4fd0-bb04-8e2ae3539d21",
   "metadata": {},
   "outputs": [
    {
     "name": "stdout",
     "output_type": "stream",
     "text": [
      "/usr/WS2/iopp/software/spack/var/spack/environments/h5bench/.spack-env/view/lib/libdarshan.so\n",
      "libdarshan\n",
      "written configuration for file sync-amrex.json\n",
      "written configuration for file sync-append.json\n",
      "written configuration for file sync-e3sm.json\n",
      "written configuration for file sync-exerciser.json\n",
      "written configuration for file sync-metadata.json\n",
      "written configuration for file sync-openpmd.json\n",
      "written configuration for file sync-overwrite.json\n",
      "written configuration for file sync-write-1d-contig-contig-read-full.json\n",
      "written configuration for file sync-write-1d-contig-contig-read-partial.json\n",
      "written configuration for file sync-write-1d-contig-contig-read-strided.json\n",
      "written configuration for file sync-write-1d-contig-contig.json\n",
      "written configuration for file sync-write-1d-contig-interleaved.json\n",
      "written configuration for file sync-write-1d-contig-strided.json\n",
      "written configuration for file sync-write-1d-interleaved-contig.json\n",
      "written configuration for file sync-write-1d-interleaved-interleaved.json\n",
      "written configuration for file sync-write-2d-contig-contig-read-full.json\n",
      "written configuration for file sync-write-2d-contig-contig.json\n",
      "written configuration for file sync-write-2d-contig-interleaved.json\n",
      "written configuration for file sync-write-2d-interleaved-contig.json\n",
      "written configuration for file sync-write-2d-interleaved-interleaved.json\n",
      "written configuration for file sync-write-3d-contig-contig-read-full.json\n",
      "written configuration for file sync-write-3d-contig-contig.json\n",
      "written configuration for file sync-write-contig-interleaved.json\n",
      "written configuration for file sync-write-read-contig-1d-small.json\n",
      "written configuration for file sync-write-unlimited.json\n"
     ]
    }
   ],
   "source": [
    "!python ./generate_config.py -ppn 4 -s 1 -d /p/gpfs1/iopp/temp/h5bench -sd ./samples -p /usr/WS2/iopp/software/spack/var/spack/environments/h5bench/.spack-env/view/lib/libdarshan.so"
   ]
  },
  {
   "cell_type": "code",
   "execution_count": null,
   "id": "5734ad1d-aba5-466e-a96e-c5853b41184f",
   "metadata": {},
   "outputs": [],
   "source": []
  }
 ],
 "metadata": {
  "kernelspec": {
   "display_name": "Python 3 (ipykernel)",
   "language": "python",
   "name": "python3"
  },
  "language_info": {
   "codemirror_mode": {
    "name": "ipython",
    "version": 3
   },
   "file_extension": ".py",
   "mimetype": "text/x-python",
   "name": "python",
   "nbconvert_exporter": "python",
   "pygments_lexer": "ipython3",
   "version": "3.8.13"
  },
  "widgets": {
   "application/vnd.jupyter.widget-state+json": {
    "state": {},
    "version_major": 2,
    "version_minor": 0
   }
  }
 },
 "nbformat": 4,
 "nbformat_minor": 5
}
