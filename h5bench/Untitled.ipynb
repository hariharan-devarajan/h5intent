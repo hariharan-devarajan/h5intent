{
 "cells": [
  {
   "cell_type": "code",
   "execution_count": 1,
   "id": "24395f0c-ebbb-4248-a357-5ce811d4879c",
   "metadata": {},
   "outputs": [],
   "source": [
    "#from generate_config import main"
   ]
  },
  {
   "cell_type": "code",
   "execution_count": 1,
   "id": "cf5a0762-8010-40bf-9abd-eee31941a675",
   "metadata": {},
   "outputs": [
    {
     "name": "stdout",
     "output_type": "stream",
     "text": [
      "usage: generate_config.py [-h] [-ppn PROCESSES_PER_NODE] [-n NODES] [-v VOL]\r\n",
      "                          [-i VOL_INSTALL_DIR] [-j INTENT_JSON] [-s SYNC]\r\n",
      "                          [-d DATA_DIR] [-sd SAMPLE_DIR] [-p PROFILER]\r\n",
      "\r\n",
      "Generate H5Bench Config\r\n",
      "\r\n",
      "optional arguments:\r\n",
      "  -h, --help            show this help message and exit\r\n",
      "  -ppn PROCESSES_PER_NODE, --processes-per-node PROCESSES_PER_NODE\r\n",
      "                        Number of processes per node in job.\r\n",
      "  -n NODES, --nodes NODES\r\n",
      "                        Number of nodes in job.\r\n",
      "  -v VOL, --vol VOL     Use which vol.\r\n",
      "  -i VOL_INSTALL_DIR, --vol-install-dir VOL_INSTALL_DIR\r\n",
      "                        Vol's install dir.\r\n",
      "  -j INTENT_JSON, --intent-json INTENT_JSON\r\n",
      "                        H5Intent Vol's input json.\r\n",
      "  -s SYNC, --sync SYNC  sync mode. y/n\r\n",
      "  -d DATA_DIR, --data-dir DATA_DIR\r\n",
      "                        Directory to produce logs and data\r\n",
      "  -sd SAMPLE_DIR, --sample-dir SAMPLE_DIR\r\n",
      "                        Original samples from h5bench\r\n",
      "  -p PROFILER, --profiler PROFILER\r\n",
      "                        Profiler SO\r\n"
     ]
    }
   ],
   "source": [
    "!chmod +x ./generate_config.py\n",
    "!python ./generate_config.py --help"
   ]
  },
  {
   "cell_type": "code",
   "execution_count": 2,
   "outputs": [
    {
     "name": "stdout",
     "output_type": "stream",
     "text": [
      "/home/haridev/CLionProjects/h5intent/h5bench\r\n"
     ]
    }
   ],
   "source": [
    "!echo $PWD"
   ],
   "metadata": {
    "collapsed": false
   }
  },
  {
   "cell_type": "code",
   "execution_count": 6,
   "id": "bef843c7-2227-4d08-ba39-b3ead1c58953",
   "metadata": {},
   "outputs": [
    {
     "name": "stdout",
     "output_type": "stream",
     "text": [
      "\r\n",
      "none\r\n",
      "none\r\n",
      "written configuration for file sync-write-1d-contig-interleaved.json\r\n",
      "written configuration for file sync-write-2d-contig-contig-read-full.json\r\n",
      "written configuration for file sync-write-1d-contig-contig.json\r\n",
      "written configuration for file sync-amrex.json\r\n",
      "written configuration for file sync-write-2d-interleaved-interleaved.json\r\n",
      "written configuration for file sync-write-1d-interleaved-contig.json\r\n",
      "written configuration for file sync-exerciser.json\r\n",
      "written configuration for file sync-write-1d-contig-strided.json\r\n",
      "written configuration for file sync-write-3d-contig-contig.json\r\n",
      "written configuration for file sync-write-unlimited.json\r\n",
      "written configuration for file sync-e3sm.json\r\n",
      "written configuration for file sync-write-1d-contig-contig-read-partial.json\r\n",
      "written configuration for file sync-write-read-contig-1d-small.json\r\n",
      "written configuration for file sync-write-1d-interleaved-interleaved.json\r\n",
      "written configuration for file sync-write-2d-interleaved-contig.json\r\n",
      "written configuration for file sync-overwrite.json\r\n",
      "written configuration for file sync-append.json\r\n",
      "written configuration for file sync-write-1d-contig-contig-read-full.json\r\n",
      "written configuration for file sync-write-2d-contig-interleaved.json\r\n",
      "written configuration for file sync-write-contig-interleaved.json\r\n",
      "written configuration for file sync-write-2d-contig-contig.json\r\n",
      "written configuration for file sync-openpmd.json\r\n",
      "written configuration for file sync-write-3d-contig-contig-read-full.json\r\n",
      "written configuration for file sync-write-1d-contig-contig-read-strided.json\r\n",
      "written configuration for file sync-metadata.json\r\n"
     ]
    }
   ],
   "source": [
    "!python ./generate_config.py -n 1 -ppn 40 -s 1 -d /p/gpfs1/iopp/temp/h5bench -sd ./samples -v intent -i /usr/workspace/iopp/software/h5intent/build -j $PWD//h5bench/property-json/sync_libdarshan_none_1_40"
   ]
  },
  {
   "cell_type": "code",
   "execution_count": 12,
   "outputs": [
    {
     "name": "stdout",
     "output_type": "stream",
     "text": [
      "/home/haridev/CLionProjects/h5intent/install\r\n"
     ]
    }
   ],
   "source": [
    "!echo `dirname $PWD`/build"
   ],
   "metadata": {
    "collapsed": false
   }
  },
  {
   "cell_type": "code",
   "execution_count": null,
   "outputs": [],
   "source": [
    "!python ./generate_config.py -n 1 -ppn 40 -s 1 -d $PWD -sd ./samples -v h5intent -i `dirname $PWD`/build"
   ],
   "metadata": {
    "collapsed": false
   }
  },
  {
   "cell_type": "code",
   "execution_count": 2,
   "id": "90b26d37-64ed-4fd0-bb04-8e2ae3539d21",
   "metadata": {},
   "outputs": [
    {
     "name": "stdout",
     "output_type": "stream",
     "text": [
      "/usr/WS2/iopp/software/spack/var/spack/environments/h5bench/.spack-env/view/lib/libdarshan.so\n",
      "libdarshan\n",
      "written configuration for file sync-amrex.json\n",
      "written configuration for file sync-append.json\n",
      "written configuration for file sync-e3sm.json\n",
      "written configuration for file sync-exerciser.json\n",
      "written configuration for file sync-metadata.json\n",
      "written configuration for file sync-openpmd.json\n",
      "written configuration for file sync-overwrite.json\n",
      "written configuration for file sync-write-1d-contig-contig-read-full.json\n",
      "written configuration for file sync-write-1d-contig-contig-read-partial.json\n",
      "written configuration for file sync-write-1d-contig-contig-read-strided.json\n",
      "written configuration for file sync-write-1d-contig-contig.json\n",
      "written configuration for file sync-write-1d-contig-interleaved.json\n",
      "written configuration for file sync-write-1d-contig-strided.json\n",
      "written configuration for file sync-write-1d-interleaved-contig.json\n",
      "written configuration for file sync-write-1d-interleaved-interleaved.json\n",
      "written configuration for file sync-write-2d-contig-contig-read-full.json\n",
      "written configuration for file sync-write-2d-contig-contig.json\n",
      "written configuration for file sync-write-2d-contig-interleaved.json\n",
      "written configuration for file sync-write-2d-interleaved-contig.json\n",
      "written configuration for file sync-write-2d-interleaved-interleaved.json\n",
      "written configuration for file sync-write-3d-contig-contig-read-full.json\n",
      "written configuration for file sync-write-3d-contig-contig.json\n",
      "written configuration for file sync-write-contig-interleaved.json\n",
      "written configuration for file sync-write-read-contig-1d-small.json\n",
      "written configuration for file sync-write-unlimited.json\n"
     ]
    }
   ],
   "source": [
    "!python ./generate_config.py -ppn 4 -s 1 -d /p/gpfs1/iopp/temp/h5bench -sd ./samples -p /usr/WS2/iopp/software/spack/var/spack/environments/h5bench/.spack-env/view/lib/libdarshan.so"
   ]
  },
  {
   "cell_type": "code",
   "execution_count": null,
   "id": "5734ad1d-aba5-466e-a96e-c5853b41184f",
   "metadata": {},
   "outputs": [],
   "source": []
  }
 ],
 "metadata": {
  "kernelspec": {
   "display_name": "Python 3 (ipykernel)",
   "language": "python",
   "name": "python3"
  },
  "language_info": {
   "codemirror_mode": {
    "name": "ipython",
    "version": 3
   },
   "file_extension": ".py",
   "mimetype": "text/x-python",
   "name": "python",
   "nbconvert_exporter": "python",
   "pygments_lexer": "ipython3",
   "version": "3.9.7"
  },
  "widgets": {
   "application/vnd.jupyter.widget-state+json": {
    "state": {},
    "version_major": 2,
    "version_minor": 0
   }
  }
 },
 "nbformat": 4,
 "nbformat_minor": 5
}
