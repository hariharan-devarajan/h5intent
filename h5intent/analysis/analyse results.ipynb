{
 "cells": [
  {
   "cell_type": "code",
   "execution_count": 44,
   "id": "cc155419-1881-466f-84cc-4cadb4fb4ec8",
   "metadata": {},
   "outputs": [],
   "source": [
    "node=4\n",
    "ppn=40\n",
    "solutions = ['none', 'intent']\n",
    "apps = ['sync-write-1d-contig-interleaved', 'sync-write-1d-contig-strided', 'sync-write-1d-contig-contig']"
   ]
  },
  {
   "cell_type": "code",
   "execution_count": 45,
   "id": "a70046ed-104f-425e-b965-6113bfb46f75",
   "metadata": {},
   "outputs": [
    {
     "name": "stdout",
     "output_type": "stream",
     "text": [
      "cmake_test.sh_1_h5bench_sync_none_intent_1_40_sync-write-1d-contig-contig-read-full.out\n",
      "cmake_test.sh_1_h5bench_sync_none_intent_1_40_sync-write-1d-contig-contig-read-partial.out\n",
      "cmake_test.sh_1_h5bench_sync_none_intent_1_40_sync-write-1d-contig-contig-read-strided.out\n",
      "cmake_test.sh_1_h5bench_sync_none_intent_1_40_sync-write-1d-contig-contig.out\n",
      "cmake_test.sh_1_h5bench_sync_none_intent_1_40_sync-write-1d-contig-interleaved.out\n",
      "cmake_test.sh_1_h5bench_sync_none_intent_1_40_sync-write-1d-contig-strided.out\n"
     ]
    }
   ],
   "source": [
    "!ls cmake_test.sh_1_h5bench_sync_none_intent_1_40_sync-write-1d-contig*"
   ]
  },
  {
   "cell_type": "code",
   "execution_count": 46,
   "id": "6170908f-33ff-4b98-8a4d-b4cc0d0b620a",
   "metadata": {},
   "outputs": [],
   "source": [
    "import re\n",
    "values = {}\n",
    "for app in apps:\n",
    "    values[app] = {}\n",
    "    for solution in solutions:\n",
    "        values[app][solution] = {}\n",
    "        file_path=f\"cmake_test.sh_{node}_h5bench_sync_none_{solution}_{node}_{ppn}_{app}.out\"\n",
    "        with open(file_path, 'r') as fp:\n",
    "            lines = fp.readlines()\n",
    "            for line in lines:\n",
    "                # check if string present on a current line\n",
    "                if line.find(\"SUCCESS\") != -1:\n",
    "                    log_dir = re.search('at (.+?)\\)', line).group(1)\n",
    "                    log_file = f\"{log_dir}/stdout\"\n",
    "                    values[app][solution][\"log\"] = log_file\n",
    "                    values[app][solution][\"size\"] = {}\n",
    "                    values[app][solution][\"time\"] = {}\n",
    "                    values[app][solution][\"rate\"] = {}\n",
    "                    with open(log_file, 'r') as log_fp:\n",
    "                        log_lines = log_fp.readlines()\n",
    "                        for log_ln in log_lines:\n",
    "                            # check if string present on a current line\n",
    "                            if log_ln.find(\"ranks:\") != -1:\n",
    "                                #print(log_ln)\n",
    "                                ranks = re.search('ranks: (.+?)', log_ln).group(1)\n",
    "                                values[app][solution][\"ranks\"] = ranks\n",
    "                            elif log_ln.find(\"size:\") != -1:\n",
    "                                op = re.search('Total (.+?) size:', log_ln).group(1)\n",
    "                                size = re.search('size: (.+?) GB', log_ln).group(1)\n",
    "                                values[app][solution][\"size\"][op] = size\n",
    "                            elif log_ln.find(\"time:\") != -1:\n",
    "                                #print(log_ln)\n",
    "                                op = re.search('(.+?) time:', log_ln).group(1)\n",
    "                                time = re.search('time: (.+?) s', log_ln).group(1)\n",
    "                                values[app][solution][\"time\"][op] = time\n",
    "                            elif log_ln.find(\"rate:\") != -1:\n",
    "                                op = re.search(' (.+?) rate:', log_ln).group(1)\n",
    "                                rate = re.search('rate: (.+?)', log_ln).group(1)\n",
    "                                values[app][solution][\"rate\"][op] = rate\n",
    "                    \n"
   ]
  },
  {
   "cell_type": "code",
   "execution_count": 47,
   "id": "d4ad988e-c801-4a87-8a52-cd1ffd2a90ad",
   "metadata": {},
   "outputs": [
    {
     "name": "stdout",
     "output_type": "stream",
     "text": [
      "sync-write-1d-contig-interleaved none {'Raw write': '2', 'Observed write': '2'}\n",
      "sync-write-1d-contig-interleaved intent {'Raw write': '2', 'Observed write': '2'}\n",
      "sync-write-1d-contig-strided none {'Raw write': '1', 'Observed write': '1'}\n",
      "sync-write-1d-contig-strided intent {'Raw write': '1', 'Observed write': '1'}\n",
      "sync-write-1d-contig-contig none {'Raw write': '6', 'Observed write': '6'}\n",
      "sync-write-1d-contig-contig intent {'Raw write': '6', 'Observed write': '5'}\n"
     ]
    }
   ],
   "source": [
    "for app, app_val in values.items():\n",
    "    for solution, solution_val in app_val.items():\n",
    "        print(app, solution, solution_val['rate'] if 'rate' in solution_val else solution_val)"
   ]
  },
  {
   "cell_type": "code",
   "execution_count": null,
   "id": "0f765b8d-ddaa-4595-9732-fa50c558ea0c",
   "metadata": {},
   "outputs": [],
   "source": []
  }
 ],
 "metadata": {
  "kernelspec": {
   "display_name": "Python 3 (ipykernel)",
   "language": "python",
   "name": "python3"
  },
  "language_info": {
   "codemirror_mode": {
    "name": "ipython",
    "version": 3
   },
   "file_extension": ".py",
   "mimetype": "text/x-python",
   "name": "python",
   "nbconvert_exporter": "python",
   "pygments_lexer": "ipython3",
   "version": "3.8.13"
  },
  "widgets": {
   "application/vnd.jupyter.widget-state+json": {
    "state": {},
    "version_major": 2,
    "version_minor": 0
   }
  }
 },
 "nbformat": 4,
 "nbformat_minor": 5
}
